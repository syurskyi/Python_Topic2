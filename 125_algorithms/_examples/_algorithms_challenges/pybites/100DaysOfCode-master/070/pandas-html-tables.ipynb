{
 "cells": [
  {
   "cell_type": "markdown",
   "metadata": {
    "deletable": true,
    "editable": true
   },
   "source": [
    "Code for upcoming article [Next Time I Will Use Pandas to Parse Html Tables](https://pybit.es/pandas-parse-html-table.html)\n",
    "\n",
    "Using what I learned from: [Quick Tip: The easiest way to grab data out of a web page in Python](https://medium.com/@ageitgey/quick-tip-the-easiest-way-to-grab-data-out-of-a-web-page-in-python-7153cecfca58) which was great timing after last week's (bit painful) html scraping.\n",
    "\n",
    "To run jupyter in a virtual env, follow [this](https://help.pythonanywhere.com/pages/IPythonNotebookVirtualenvs/)\n"
   ]
  },
  {
   "cell_type": "code",
   "execution_count": 1,
   "metadata": {
    "collapsed": true,
    "deletable": true,
    "editable": true
   },
   "outputs": [],
   "source": [
    "import json\n",
    "\n",
    "import pandas as pd"
   ]
  },
  {
   "cell_type": "code",
   "execution_count": 2,
   "metadata": {
    "collapsed": false,
    "deletable": true,
    "editable": true
   },
   "outputs": [],
   "source": [
    "tables = pd.read_html(\"https://www.wholesalesolar.com/solar-information/how-to-save-energy/power-table\", \n",
    "                      header=0)"
   ]
  },
  {
   "cell_type": "code",
   "execution_count": 4,
   "metadata": {
    "collapsed": false,
    "deletable": true,
    "editable": true
   },
   "outputs": [
    {
     "data": {
      "text/html": [
       "<div>\n",
       "<style>\n",
       "    .dataframe thead tr:only-child th {\n",
       "        text-align: right;\n",
       "    }\n",
       "\n",
       "    .dataframe thead th {\n",
       "        text-align: left;\n",
       "    }\n",
       "\n",
       "    .dataframe tbody tr th {\n",
       "        vertical-align: top;\n",
       "    }\n",
       "</style>\n",
       "<table border=\"1\" class=\"dataframe\">\n",
       "  <thead>\n",
       "    <tr style=\"text-align: right;\">\n",
       "      <th></th>\n",
       "      <th>Appliance</th>\n",
       "      <th>Watts</th>\n",
       "      <th>Appliance.1</th>\n",
       "      <th>Watts.1</th>\n",
       "      <th>Appliance.2</th>\n",
       "      <th>Watts.2</th>\n",
       "    </tr>\n",
       "  </thead>\n",
       "  <tbody>\n",
       "    <tr>\n",
       "      <th>0</th>\n",
       "      <td>Central Air Conditioner NA</td>\n",
       "      <td>5000</td>\n",
       "      <td>Electric blanket</td>\n",
       "      <td>200</td>\n",
       "      <td>Hedge trimmer</td>\n",
       "      <td>450</td>\n",
       "    </tr>\n",
       "    <tr>\n",
       "      <th>1</th>\n",
       "      <td>Electric Clothes Dryer NA</td>\n",
       "      <td>3400</td>\n",
       "      <td>Shaver</td>\n",
       "      <td>15</td>\n",
       "      <td>Weed eater</td>\n",
       "      <td>500</td>\n",
       "    </tr>\n",
       "    <tr>\n",
       "      <th>2</th>\n",
       "      <td>Oven</td>\n",
       "      <td>3000</td>\n",
       "      <td>Waterpik</td>\n",
       "      <td>100</td>\n",
       "      <td>1/4” drill</td>\n",
       "      <td>250</td>\n",
       "    </tr>\n",
       "    <tr>\n",
       "      <th>3</th>\n",
       "      <td>Hair Dryer</td>\n",
       "      <td>1538</td>\n",
       "      <td>Well Pump (1/3-1 HP)</td>\n",
       "      <td>480-1200</td>\n",
       "      <td>1/2” drill</td>\n",
       "      <td>750</td>\n",
       "    </tr>\n",
       "    <tr>\n",
       "      <th>4</th>\n",
       "      <td>Dishwasher</td>\n",
       "      <td>1200-1500</td>\n",
       "      <td>Laptop</td>\n",
       "      <td>60-250</td>\n",
       "      <td>1” drill</td>\n",
       "      <td>1000</td>\n",
       "    </tr>\n",
       "  </tbody>\n",
       "</table>\n",
       "</div>"
      ],
      "text/plain": [
       "                    Appliance      Watts           Appliance.1   Watts.1  \\\n",
       "0  Central Air Conditioner NA       5000      Electric blanket       200   \n",
       "1   Electric Clothes Dryer NA       3400                Shaver        15   \n",
       "2                        Oven       3000              Waterpik       100   \n",
       "3                  Hair Dryer       1538  Well Pump (1/3-1 HP)  480-1200   \n",
       "4                  Dishwasher  1200-1500                Laptop    60-250   \n",
       "\n",
       "     Appliance.2 Watts.2  \n",
       "0  Hedge trimmer     450  \n",
       "1     Weed eater     500  \n",
       "2     1/4” drill     250  \n",
       "3     1/2” drill     750  \n",
       "4       1” drill    1000  "
      ]
     },
     "execution_count": 4,
     "metadata": {},
     "output_type": "execute_result"
    }
   ],
   "source": [
    "df = tables[6]  # 7th table on page, this took some trial and error, you can probably filter\n",
    "df.head()"
   ]
  },
  {
   "cell_type": "code",
   "execution_count": 6,
   "metadata": {
    "collapsed": false,
    "deletable": true,
    "editable": true
   },
   "outputs": [
    {
     "data": {
      "text/html": [
       "<div>\n",
       "<style>\n",
       "    .dataframe thead tr:only-child th {\n",
       "        text-align: right;\n",
       "    }\n",
       "\n",
       "    .dataframe thead th {\n",
       "        text-align: left;\n",
       "    }\n",
       "\n",
       "    .dataframe tbody tr th {\n",
       "        vertical-align: top;\n",
       "    }\n",
       "</style>\n",
       "<table border=\"1\" class=\"dataframe\">\n",
       "  <thead>\n",
       "    <tr style=\"text-align: right;\">\n",
       "      <th></th>\n",
       "      <th>device</th>\n",
       "      <th>watts</th>\n",
       "    </tr>\n",
       "  </thead>\n",
       "  <tbody>\n",
       "    <tr>\n",
       "      <th>0</th>\n",
       "      <td>Central Air Conditioner NA</td>\n",
       "      <td>5000</td>\n",
       "    </tr>\n",
       "    <tr>\n",
       "      <th>1</th>\n",
       "      <td>Electric Clothes Dryer NA</td>\n",
       "      <td>3400</td>\n",
       "    </tr>\n",
       "    <tr>\n",
       "      <th>2</th>\n",
       "      <td>Oven</td>\n",
       "      <td>3000</td>\n",
       "    </tr>\n",
       "    <tr>\n",
       "      <th>3</th>\n",
       "      <td>Hair Dryer</td>\n",
       "      <td>1538</td>\n",
       "    </tr>\n",
       "    <tr>\n",
       "      <th>4</th>\n",
       "      <td>Dishwasher</td>\n",
       "      <td>1200-1500</td>\n",
       "    </tr>\n",
       "  </tbody>\n",
       "</table>\n",
       "</div>"
      ],
      "text/plain": [
       "                       device      watts\n",
       "0  Central Air Conditioner NA       5000\n",
       "1   Electric Clothes Dryer NA       3400\n",
       "2                        Oven       3000\n",
       "3                  Hair Dryer       1538\n",
       "4                  Dishwasher  1200-1500"
      ]
     },
     "execution_count": 6,
     "metadata": {},
     "output_type": "execute_result"
    }
   ],
   "source": [
    "# needed to merge cols 1,3,5 and 2,4,6\n",
    "# there is probably an easier way to do this\n",
    "appliances = pd.concat([df['Appliance'], df['Appliance.1'], df['Appliance.2']], axis=0)\n",
    "watts = pd.concat([df['Watts'], df['Watts.1'], df['Watts.2']], axis=0)\n",
    "d = {'device': appliances, 'watts': watts}\n",
    "df2 = pd.DataFrame(data=d).dropna()  # drop NaN values\n",
    "df2.head()"
   ]
  },
  {
   "cell_type": "code",
   "execution_count": 7,
   "metadata": {
    "collapsed": false,
    "deletable": true,
    "editable": true
   },
   "outputs": [],
   "source": [
    "# you can also save it to json\n",
    "appliances_json = df2.to_json(orient=\"records\")"
   ]
  },
  {
   "cell_type": "code",
   "execution_count": 8,
   "metadata": {
    "collapsed": false,
    "deletable": true,
    "editable": true
   },
   "outputs": [],
   "source": [
    "with open('data.txt', 'w') as outfile:\n",
    "    json.dump(appliances_json, outfile)"
   ]
  },
  {
   "cell_type": "code",
   "execution_count": 9,
   "metadata": {
    "collapsed": false,
    "deletable": true,
    "editable": true
   },
   "outputs": [
    {
     "name": "stdout",
     "output_type": "stream",
     "text": [
      "Central Air Conditioner NA                         - 5000\n",
      "Electric Clothes Dryer NA                          - 3400\n",
      "Oven                                               - 3000\n",
      "Hair Dryer                                         - 1538\n",
      "Dishwasher                                         - 1200-1500\n",
      "Coffee Machine                                     - 1500\n",
      "Microwave                                          - 1500\n",
      "Popcorn Popper                                     - 1400\n",
      "Toaster oven                                       - 1200\n",
      "Hot Plate                                          - 1200\n",
      "Iron                                               - 1100\n",
      "Toaster                                            - 1100\n",
      "Microwave                                          - 500-1500\n",
      "Room Air Conditioner NA                            - 1100\n",
      "Vacuum Cleaner                                     - 500\n",
      "Water heater                                       - 479\n",
      "Sink Waste Disposal                                - 450\n",
      "Espresso Machine                                   - 360\n",
      "Dehumidifier                                       - 350\n",
      "Blender                                            - 300\n",
      "Humidifier                                         - 300-1000\n",
      "Video Game Player                                  - 195\n",
      "Standard TV                                        - 188\n",
      "LCD Monitor                                        - 80-150\n",
      "Desktop Computer (Standard home/business)          - 80-120\n",
      "Desktop Computer (Gaming)                          - 400-1000+\n",
      "Laptop Computer                                    - 40-120\n",
      "Portable Fan                                       - 100\n",
      "Ceiling Fan                                        - 100\n",
      "Can Opener                                         - 100\n",
      "Curling Iron                                       - 90\n",
      "Stereo                                             - 60\n",
      "Cable Box                                          - 20\n",
      "Clock Radio                                        - 7\n",
      "Electric blanket                                   - 200\n",
      "Shaver                                             - 15\n",
      "Waterpik                                           - 100\n",
      "Well Pump (1/3-1 HP)                               - 480-1200\n",
      "Laptop                                             - 60-250\n",
      "Plasma TV                                          - 339\n",
      "LCD TV                                             - 213\n",
      "25” color TV                                       - 150\n",
      "19” color TV                                       - 70\n",
      "12” black and white TV                             - 20\n",
      "Stereo                                             - 10-30\n",
      "Satellite dish                                     - 30\n",
      "Radiotelephone - Receive                           - 5\n",
      "Radiotelephone - Transmit                          - 40-150\n",
      "100 watt incandescent bulb                         - 100\n",
      "25 watt compact fluor. bulb                        - 28\n",
      "50 watt DC incandescent                            - 50\n",
      "40 watt DC halogen                                 - 40\n",
      "20 watt DC compact fluor.                          - 22\n",
      "CFL Bulb (60-watt equivalent)                      - 18\n",
      "CFL Bulb (40-watt equivalent)                      - 11\n",
      "CFL Bulb (75-watt equivalent)                      - 20\n",
      "CFL Bulb (100-watt equivalent)                     - 30\n",
      "Engine Block Heater NA                             - 150-1000\n",
      "Portable Heater NA                                 - 1500\n",
      "Waterbed Heater NA                                 - 400\n",
      "Stock Tank Heater NA                               - 100\n",
      "Furnace Blower                                     - 300-1000\n",
      "Clothes Dryer - Gas Heated                         - 300-400\n",
      "Well Pump (1/3-1HP)                                - 480-1200\n",
      "Hedge trimmer                                      - 450\n",
      "Weed eater                                         - 500\n",
      "1/4” drill                                         - 250\n",
      "1/2” drill                                         - 750\n",
      "1” drill                                           - 1000\n",
      "9” disc sander                                     - 1200\n",
      "3” belt sander                                     - 1000\n",
      "12” chain saw                                      - 1100\n",
      "14” band saw                                       - 1100\n",
      "7-1/4” circular saw                                - 900\n",
      "8-1/4” circular saw                                - 1400\n",
      "20 cu. ft. (AC)                                    - 1411 watt-hours/day*\n",
      "16 cu. ft. (AC)                                    - 1200 watt-hours /day*\n",
      "15 cu. ft. (Upright)                               - 1240 watt-hours /day*\n",
      "15 cu. ft. (Chest)                                 - 1080 watt-hours /day*\n",
      "Cell Phone - recharge                              - 2-4 watts\n",
      "MP3 Player - recharge                              - .25-.40 watts\n"
     ]
    }
   ],
   "source": [
    "# compared to original script I still need to average number-number entries, but using Pandas is much nicer overall\n",
    "\n",
    "for row in df2.iterrows():\n",
    "    s = row[1]\n",
    "    print('{:<50} - {}'.format(s.device, s.watts))"
   ]
  }
 ],
 "metadata": {
  "kernelspec": {
   "display_name": "my-virtualenv-name",
   "language": "python",
   "name": "my-virtualenv-name"
  },
  "language_info": {
   "codemirror_mode": {
    "name": "ipython",
    "version": 3
   },
   "file_extension": ".py",
   "mimetype": "text/x-python",
   "name": "python",
   "nbconvert_exporter": "python",
   "pygments_lexer": "ipython3",
   "version": "3.6.0"
  }
 },
 "nbformat": 4,
 "nbformat_minor": 2
}
