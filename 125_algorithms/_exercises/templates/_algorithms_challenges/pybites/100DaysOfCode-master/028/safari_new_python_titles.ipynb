{
 "cells": [
  {
   "cell_type": "code",
   "execution_count": 1,
   "metadata": {
    "collapsed": true,
    "deletable": true,
    "editable": true
   },
   "outputs": [],
   "source": [
    "from collections import Counter, defaultdict\n",
    "import csv\n",
    "import operator\n",
    "import re\n",
    "\n",
    "from matplotlib import pyplot as plt\n",
    "import numpy as np\n",
    "\n",
    "from IPython.core.display import display, HTML\n",
    "\n",
    "%matplotlib inline"
   ]
  },
  {
   "cell_type": "code",
   "execution_count": 2,
   "metadata": {
    "collapsed": true,
    "deletable": true,
    "editable": true
   },
   "outputs": [],
   "source": [
    "c = Counter()\n",
    "d = defaultdict(list)\n",
    "\n",
    "# this is an export of all tweets of my newsafaribooks bot: https://twitter.com/newsafaribooks\n",
    "\n",
    "with open('tweets.csv') as f:\n",
    "    for line in csv.DictReader(f):\n",
    "\n",
    "        if bool(line['retweeted_status_id']) or bool(line['in_reply_to_user_id']):\n",
    "            continue\n",
    "\n",
    "        month = line['timestamp'][:7]\n",
    "        \n",
    "        if 'python' in line['text'].lower():\n",
    "            c[month] += 1\n",
    "            d[month].append(line['expanded_urls'])"
   ]
  },
  {
   "cell_type": "code",
   "execution_count": 3,
   "metadata": {
    "collapsed": false,
    "deletable": true,
    "editable": true
   },
   "outputs": [
    {
     "data": {
      "image/png": "[encoded data removed]",
      "text/plain": [
       "<matplotlib.figure.Figure at 0x1061a67f0>"
      ]
     },
     "metadata": {},
     "output_type": "display_data"
    }
   ],
   "source": [
    "c_sorted = sorted(c.items(), key=operator.itemgetter(0))\n",
    "labels, values = zip(*c_sorted)\n",
    "indexes = np.arange(len(labels))\n",
    "width = 1\n",
    "\n",
    "#plt.plot(indexes, values)\n",
    "plt.bar(indexes, values, width)\n",
    "plt.xticks(indexes + width * 0.5, labels, rotation=90)\n",
    "\n",
    "fig = plt.gcf()\n",
    "fig.set_size_inches(15,15)\n",
    "    \n",
    "plt.title('Python books added to Safari')\n",
    "plt.show() # plt.savefig('file.png') to save to file"
   ]
  },
  {
   "cell_type": "code",
   "execution_count": 4,
   "metadata": {
    "collapsed": true,
    "deletable": true,
    "editable": true
   },
   "outputs": [],
   "source": [
    "assert len(d['2016-06']) == 10\n",
    "assert len(d['2016-11']) == 21"
   ]
  },
  {
   "cell_type": "code",
   "execution_count": 12,
   "metadata": {
    "collapsed": true,
    "deletable": true,
    "editable": true
   },
   "outputs": [],
   "source": [
    "cover_url = 'https://www.safaribooksonline.com/library/cover/{bookid}/'\n",
    "html = '<a href=\"{link}\" target=\"_blank\"><img class=\"book\" src=\"{img}\"></a>'\n",
    "get_id = re.compile(r'.*/(\\d+)/\\?.*')\n",
    "get_url = re.compile(r'.*(http\\S+).*')"
   ]
  },
  {
   "cell_type": "code",
   "execution_count": 13,
   "metadata": {
    "collapsed": false,
    "deletable": true,
    "editable": true
   },
   "outputs": [],
   "source": [
    "def show_books_for_month(month):\n",
    "    output = ['''<style>\n",
    "        img.book {float: left; width: 100px; height: 100px !important; } \n",
    "        </style>''']  # ipython hack\n",
    "    for tweet in d[month]:\n",
    "        bookid = get_id.sub(r'\\1', tweet)\n",
    "        url = get_url.sub(r'\\1', tweet)\n",
    "        cover = cover_url.format(bookid=bookid)\n",
    "        output.append(html.format(link=url, img=cover))\n",
    "    display(HTML('\\n'.join(output)))"
   ]
  },
  {
   "cell_type": "code",
   "execution_count": 14,
   "metadata": {
    "collapsed": false,
    "deletable": true,
    "editable": true
   },
   "outputs": [
    {
     "data": {
      "text/html": [
       "<style>\n",
       "        img.book {float: left; width: 100px; height: 100px !important; } \n",
       "        </style>\n",
       "<a href=\"https://www.safaribooksonline.com/library/view/mastering-flask/9781784393915/?utm_source=twitter.com&utm_medium=social&utm_campaign=newsafaribooks\" target=\"_blank\"><img class=\"book\" src=\"https://www.safaribooksonline.com/library/cover/9781784393915/\"></a>\n",
       "<a href=\"https://www.safaribooksonline.com/library/view/learning-path-python/9781787287129/?utm_source=twitter.com&utm_medium=social&utm_campaign=newsafaribooks\" target=\"_blank\"><img class=\"book\" src=\"https://www.safaribooksonline.com/library/cover/9781787287129/\"></a>\n",
       "<a href=\"https://www.safaribooksonline.com/library/view/python-data-visualization/9781787122802/?utm_source=twitter.com&utm_medium=social&utm_campaign=newsafaribooks\" target=\"_blank\"><img class=\"book\" src=\"https://www.safaribooksonline.com/library/cover/9781787122802/\"></a>\n",
       "<a href=\"https://www.safaribooksonline.com/library/view/bayesian-analysis-with/9781785883804/?utm_source=twitter.com&utm_medium=social&utm_campaign=newsafaribooks\" target=\"_blank\"><img class=\"book\" src=\"https://www.safaribooksonline.com/library/cover/9781785883804/\"></a>\n",
       "<a href=\"https://www.safaribooksonline.com/library/view/natural-language-processing/9781787285101/?utm_source=twitter.com&utm_medium=social&utm_campaign=newsafaribooks\" target=\"_blank\"><img class=\"book\" src=\"https://www.safaribooksonline.com/library/cover/9781787285101/\"></a>\n",
       "<a href=\"https://www.safaribooksonline.com/library/view/deep-dive-into/9781787285880/?utm_source=twitter.com&utm_medium=social&utm_campaign=newsafaribooks\" target=\"_blank\"><img class=\"book\" src=\"https://www.safaribooksonline.com/library/cover/9781787285880/\"></a>\n",
       "<a href=\"https://www.safaribooksonline.com/library/view/python-machine-learning/9781787127692/?utm_source=twitter.com&utm_medium=social&utm_campaign=newsafaribooks\" target=\"_blank\"><img class=\"book\" src=\"https://www.safaribooksonline.com/library/cover/9781787127692/\"></a>\n",
       "<a href=\"https://www.safaribooksonline.com/library/view/step-by-step-programming-with/9781787287679/?utm_source=twitter.com&utm_medium=social&utm_campaign=newsafaribooks\" target=\"_blank\"><img class=\"book\" src=\"https://www.safaribooksonline.com/library/cover/9781787287679/\"></a>\n",
       "<a href=\"https://www.safaribooksonline.com/library/view/python-in-a/9781491913833/?utm_source=twitter.com&utm_medium=social&utm_campaign=newsafaribooks\" target=\"_blank\"><img class=\"book\" src=\"https://www.safaribooksonline.com/library/cover/9781491913833/\"></a>\n",
       "<a href=\"https://www.safaribooksonline.com/library/view/gui-programming-for/9781787286955/?utm_source=twitter.com&utm_medium=social&utm_campaign=newsafaribooks\" target=\"_blank\"><img class=\"book\" src=\"https://www.safaribooksonline.com/library/cover/9781787286955/\"></a>\n",
       "<a href=\"https://www.safaribooksonline.com/library/view/python-real-world/9781787123212/?utm_source=twitter.com&utm_medium=social&utm_campaign=newsafaribooks\" target=\"_blank\"><img class=\"book\" src=\"https://www.safaribooksonline.com/library/cover/9781787123212/\"></a>\n",
       "<a href=\"https://www.safaribooksonline.com/library/view/thoughtful-machine-learning/9781491924129/?utm_source=twitter.com&utm_medium=social&utm_campaign=newsafaribooks\" target=\"_blank\"><img class=\"book\" src=\"https://www.safaribooksonline.com/library/cover/9781491924129/\"></a>\n",
       "<a href=\"https://www.safaribooksonline.com/library/view/mastering-python-/9781786463746/?utm_source=twitter.com&utm_medium=social&utm_campaign=newsafaribooks\" target=\"_blank\"><img class=\"book\" src=\"https://www.safaribooksonline.com/library/cover/9781786463746/\"></a>\n",
       "<a href=\"https://www.safaribooksonline.com/library/view/python-for-experimental/9781317206439/?utm_source=twitter.com&utm_medium=social&utm_campaign=newsafaribooks\" target=\"_blank\"><img class=\"book\" src=\"https://www.safaribooksonline.com/library/cover/9781317206439/\"></a>\n",
       "<a href=\"https://www.safaribooksonline.com/library/view/python-for-data/9781491957653/?utm_source=twitter.com&utm_medium=social&utm_campaign=newsafaribooks\" target=\"_blank\"><img class=\"book\" src=\"https://www.safaribooksonline.com/library/cover/9781491957653/\"></a>\n",
       "<a href=\"https://www.safaribooksonline.com/library/view/python-projects/9781786466990/?utm_source=twitter.com&utm_medium=social&utm_campaign=newsafaribooks\" target=\"_blank\"><img class=\"book\" src=\"https://www.safaribooksonline.com/library/cover/9781786466990/\"></a>\n",
       "<a href=\"https://www.safaribooksonline.com/library/view/learning-path-python/9781491977569/?utm_source=twitter.com&utm_medium=social&utm_campaign=newsafaribooks\" target=\"_blank\"><img class=\"book\" src=\"https://www.safaribooksonline.com/library/cover/9781491977569/\"></a>\n",
       "<a href=\"https://www.safaribooksonline.com/library/view/a-pythonistas-guide/9781634621656/?utm_source=twitter.com&utm_medium=social&utm_campaign=newsafaribooks\" target=\"_blank\"><img class=\"book\" src=\"https://www.safaribooksonline.com/library/cover/9781634621656/\"></a>\n",
       "<a href=\"https://www.safaribooksonline.com/library/view/python-gui-programming/9781786465528/?utm_source=twitter.com&utm_medium=social&utm_campaign=newsafaribooks\" target=\"_blank\"><img class=\"book\" src=\"https://www.safaribooksonline.com/library/cover/9781786465528/\"></a>\n",
       "<a href=\"https://www.safaribooksonline.com/library/view/python-data-science/9781786462138/?utm_source=twitter.com&utm_medium=social&utm_campaign=newsafaribooks\" target=\"_blank\"><img class=\"book\" src=\"https://www.safaribooksonline.com/library/cover/9781786462138/\"></a>\n",
       "<a href=\"https://www.safaribooksonline.com/library/view/building-restful-python/9781786462251/?utm_source=twitter.com&utm_medium=social&utm_campaign=newsafaribooks\" target=\"_blank\"><img class=\"book\" src=\"https://www.safaribooksonline.com/library/cover/9781786462251/\"></a>"
      ],
      "text/plain": [
       "<IPython.core.display.HTML object>"
      ]
     },
     "metadata": {},
     "output_type": "display_data"
    }
   ],
   "source": [
    "show_books_for_month('2016-11')"
   ]
  },
  {
   "cell_type": "code",
   "execution_count": 15,
   "metadata": {
    "collapsed": false,
    "deletable": true,
    "editable": true
   },
   "outputs": [
    {
     "data": {
      "text/html": [
       "<style>\n",
       "        img.book {float: left; width: 100px; height: 100px !important; } \n",
       "        </style>\n",
       "<a href=\"https://www.safaribooksonline.com/library/view/programming-on-micropython/9781491972724/?utm_source=twitter.com&utm_medium=social&utm_campaign=newsafaribooks\" target=\"_blank\"><img class=\"book\" src=\"https://www.safaribooksonline.com/library/cover/9781491972724/\"></a>\n",
       "<a href=\"https://www.safaribooksonline.com/library/view/flask-building-python/9781787288225/?utm_source=twitter.com&utm_medium=social&utm_campaign=newsafaribooks\" target=\"_blank\"><img class=\"book\" src=\"https://www.safaribooksonline.com/library/cover/9781787288225/\"></a>\n",
       "<a href=\"https://www.safaribooksonline.com/library/view/getting-started-with/9781787283244/?utm_source=twitter.com&utm_medium=social&utm_campaign=newsafaribooks\" target=\"_blank\"><img class=\"book\" src=\"https://www.safaribooksonline.com/library/cover/9781787283244/\"></a>\n",
       "<a href=\"https://www.safaribooksonline.com/library/view/machine-learning-using/9781634622318/?utm_source=twitter.com&utm_medium=social&utm_campaign=newsafaribooks\" target=\"_blank\"><img class=\"book\" src=\"https://www.safaribooksonline.com/library/cover/9781634622318/\"></a>\n",
       "<a href=\"https://www.safaribooksonline.com/library/view/python-parallel-programming/9781787280496/?utm_source=twitter.com&utm_medium=social&utm_campaign=newsafaribooks\" target=\"_blank\"><img class=\"book\" src=\"https://www.safaribooksonline.com/library/cover/9781787280496/\"></a>\n",
       "<a href=\"https://www.safaribooksonline.com/library/view/modern-python-livelessons/9780134743400/?utm_source=twitter.com&utm_medium=social&utm_campaign=newsafaribooks\" target=\"_blank\"><img class=\"book\" src=\"https://www.safaribooksonline.com/library/cover/9780134743400/\"></a>\n",
       "<a href=\"https://www.safaribooksonline.com/library/view/getting-started-with/9781786462978/?utm_source=twitter.com&utm_medium=social&utm_campaign=newsafaribooks\" target=\"_blank\"><img class=\"book\" src=\"https://www.safaribooksonline.com/library/cover/9781786462978/\"></a>\n",
       "<a href=\"https://www.safaribooksonline.com/library/view/raspberry-pi-image/9781484227305/?utm_source=twitter.com&utm_medium=social&utm_campaign=newsafaribooks\" target=\"_blank\"><img class=\"book\" src=\"https://www.safaribooksonline.com/library/cover/9781484227305/\"></a>\n",
       "<a href=\"https://www.safaribooksonline.com/library/view/python-data-analytics/9781788290098/?utm_source=twitter.com&utm_medium=social&utm_campaign=newsafaribooks\" target=\"_blank\"><img class=\"book\" src=\"https://www.safaribooksonline.com/library/cover/9781788290098/\"></a>\n",
       "<a href=\"https://www.safaribooksonline.com/library/view/pro-python-best/9781484222416/?utm_source=twitter.com&utm_medium=social&utm_campaign=newsafaribooks\" target=\"_blank\"><img class=\"book\" src=\"https://www.safaribooksonline.com/library/cover/9781484222416/\"></a>\n",
       "<a href=\"https://www.safaribooksonline.com/library/view/python-data-analysis/9781787127487/?utm_source=twitter.com&utm_medium=social&utm_campaign=newsafaribooks\" target=\"_blank\"><img class=\"book\" src=\"https://www.safaribooksonline.com/library/cover/9781787127487/\"></a>\n",
       "<a href=\"https://www.safaribooksonline.com/library/view/qgis-python-programming/9781787124837/?utm_source=twitter.com&utm_medium=social&utm_campaign=newsafaribooks\" target=\"_blank\"><img class=\"book\" src=\"https://www.safaribooksonline.com/library/cover/9781787124837/\"></a>\n",
       "<a href=\"https://www.safaribooksonline.com/library/view/dependency-grammar-and/9781491982051/?utm_source=twitter.com&utm_medium=social&utm_campaign=newsafaribooks\" target=\"_blank\"><img class=\"book\" src=\"https://www.safaribooksonline.com/library/cover/9781491982051/\"></a>"
      ],
      "text/plain": [
       "<IPython.core.display.HTML object>"
      ]
     },
     "metadata": {},
     "output_type": "display_data"
    }
   ],
   "source": [
    "show_books_for_month('2017-04')"
   ]
  }
 ],
 "metadata": {
  "kernelspec": {
   "display_name": "jupyter Python 3.4",
   "language": "python",
   "name": "jupyter python 3.4"
  },
  "language_info": {
   "codemirror_mode": {
    "name": "ipython",
    "version": 3
   },
   "file_extension": ".py",
   "mimetype": "text/x-python",
   "name": "python",
   "nbconvert_exporter": "python",
   "pygments_lexer": "ipython3",
   "version": "3.5.1"
  }
 },
 "nbformat": 4,
 "nbformat_minor": 2
}
